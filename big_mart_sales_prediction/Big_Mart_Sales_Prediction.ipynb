{
  "nbformat": 4,
  "nbformat_minor": 0,
  "metadata": {
    "colab": {
      "name": "Big Mart Sales Prediction.ipynb",
      "provenance": [],
      "collapsed_sections": []
    },
    "kernelspec": {
      "name": "python3",
      "display_name": "Python 3"
    },
    "accelerator": "GPU"
  },
  "cells": [
    {
      "cell_type": "code",
      "metadata": {
        "id": "rbg9dVBKLdP2",
        "colab_type": "code",
        "colab": {
          "base_uri": "https://localhost:8080/",
          "height": 34
        },
        "outputId": "66f69a4f-affb-48bd-d45f-cd5561bac1f1"
      },
      "source": [
        "import numpy as np\n",
        "print(np.__version__)"
      ],
      "execution_count": 1,
      "outputs": [
        {
          "output_type": "stream",
          "text": [
            "1.18.5\n"
          ],
          "name": "stdout"
        }
      ]
    },
    {
      "cell_type": "markdown",
      "metadata": {
        "id": "e-ex6N5HNTge",
        "colab_type": "text"
      },
      "source": [
        "# Pre-processing Steps\n",
        "\n",
        "<ol>1. Filling the missing values</ol>\n",
        "<ol>2. Converting categories to numbers</ol>\n",
        "<ol>3. Bring all the variables in range 0 to 1</ol>"
      ]
    },
    {
      "cell_type": "code",
      "metadata": {
        "id": "hvaY-17-Lg0O",
        "colab_type": "code",
        "colab": {
          "base_uri": "https://localhost:8080/",
          "height": 34
        },
        "outputId": "6b7c7dbc-71dd-43b1-a4ec-7ea9e0a40be7"
      },
      "source": [
        "# importing required libraries\n",
        "import pandas as pd\n",
        "# check version on pandas\n",
        "print('Version of pandas:', pd.__version__)  "
      ],
      "execution_count": 2,
      "outputs": [
        {
          "output_type": "stream",
          "text": [
            "Version of pandas: 1.0.5\n"
          ],
          "name": "stdout"
        }
      ]
    },
    {
      "cell_type": "code",
      "metadata": {
        "id": "PCLuTtKiLg20",
        "colab_type": "code",
        "colab": {}
      },
      "source": [
        "# reading the loan prediction data\n",
        "train = pd.read_csv('train_XnW6LSF.csv')\n",
        "test = pd.read_csv('test_FewQE9B.csv')\n",
        "sample_sub = pd.read_csv('sample_submission_hP4II7x.csv')"
      ],
      "execution_count": 3,
      "outputs": []
    },
    {
      "cell_type": "code",
      "metadata": {
        "id": "TS9owZt1Lg6g",
        "colab_type": "code",
        "colab": {
          "base_uri": "https://localhost:8080/",
          "height": 785
        },
        "outputId": "25263099-8cf4-4e60-a934-c5aeef90924b"
      },
      "source": [
        "data = train.copy()\n",
        "print(\"Shape\", data.shape)\n",
        "# checking missing values in the data\n",
        "print(\"Nulls\",round((data.isnull().sum()/len(data))*100,2) )\n",
        "print(\"DataTypes\")\n",
        "# data types of the variables\n",
        "print(data.dtypes)\n",
        "data.head()"
      ],
      "execution_count": 4,
      "outputs": [
        {
          "output_type": "stream",
          "text": [
            "Shape (8523, 12)\n",
            "Nulls Item_Identifier               0.00\n",
            "Item_Weight                  17.17\n",
            "Item_Fat_Content              0.00\n",
            "Item_Visibility               0.00\n",
            "Item_Type                     0.00\n",
            "Item_MRP                      0.00\n",
            "Outlet_Identifier             0.00\n",
            "Outlet_Establishment_Year     0.00\n",
            "Outlet_Size                  28.28\n",
            "Outlet_Location_Type          0.00\n",
            "Outlet_Type                   0.00\n",
            "Item_Outlet_Sales             0.00\n",
            "dtype: float64\n",
            "DataTypes\n",
            "Item_Identifier               object\n",
            "Item_Weight                  float64\n",
            "Item_Fat_Content              object\n",
            "Item_Visibility              float64\n",
            "Item_Type                     object\n",
            "Item_MRP                     float64\n",
            "Outlet_Identifier             object\n",
            "Outlet_Establishment_Year      int64\n",
            "Outlet_Size                   object\n",
            "Outlet_Location_Type          object\n",
            "Outlet_Type                   object\n",
            "Item_Outlet_Sales            float64\n",
            "dtype: object\n"
          ],
          "name": "stdout"
        },
        {
          "output_type": "execute_result",
          "data": {
            "text/html": [
              "<div>\n",
              "<style scoped>\n",
              "    .dataframe tbody tr th:only-of-type {\n",
              "        vertical-align: middle;\n",
              "    }\n",
              "\n",
              "    .dataframe tbody tr th {\n",
              "        vertical-align: top;\n",
              "    }\n",
              "\n",
              "    .dataframe thead th {\n",
              "        text-align: right;\n",
              "    }\n",
              "</style>\n",
              "<table border=\"1\" class=\"dataframe\">\n",
              "  <thead>\n",
              "    <tr style=\"text-align: right;\">\n",
              "      <th></th>\n",
              "      <th>Item_Identifier</th>\n",
              "      <th>Item_Weight</th>\n",
              "      <th>Item_Fat_Content</th>\n",
              "      <th>Item_Visibility</th>\n",
              "      <th>Item_Type</th>\n",
              "      <th>Item_MRP</th>\n",
              "      <th>Outlet_Identifier</th>\n",
              "      <th>Outlet_Establishment_Year</th>\n",
              "      <th>Outlet_Size</th>\n",
              "      <th>Outlet_Location_Type</th>\n",
              "      <th>Outlet_Type</th>\n",
              "      <th>Item_Outlet_Sales</th>\n",
              "    </tr>\n",
              "  </thead>\n",
              "  <tbody>\n",
              "    <tr>\n",
              "      <th>0</th>\n",
              "      <td>FDA15</td>\n",
              "      <td>9.30</td>\n",
              "      <td>Low Fat</td>\n",
              "      <td>0.016047</td>\n",
              "      <td>Dairy</td>\n",
              "      <td>249.8092</td>\n",
              "      <td>OUT049</td>\n",
              "      <td>1999</td>\n",
              "      <td>Medium</td>\n",
              "      <td>Tier 1</td>\n",
              "      <td>Supermarket Type1</td>\n",
              "      <td>3735.1380</td>\n",
              "    </tr>\n",
              "    <tr>\n",
              "      <th>1</th>\n",
              "      <td>DRC01</td>\n",
              "      <td>5.92</td>\n",
              "      <td>Regular</td>\n",
              "      <td>0.019278</td>\n",
              "      <td>Soft Drinks</td>\n",
              "      <td>48.2692</td>\n",
              "      <td>OUT018</td>\n",
              "      <td>2009</td>\n",
              "      <td>Medium</td>\n",
              "      <td>Tier 3</td>\n",
              "      <td>Supermarket Type2</td>\n",
              "      <td>443.4228</td>\n",
              "    </tr>\n",
              "    <tr>\n",
              "      <th>2</th>\n",
              "      <td>FDN15</td>\n",
              "      <td>17.50</td>\n",
              "      <td>Low Fat</td>\n",
              "      <td>0.016760</td>\n",
              "      <td>Meat</td>\n",
              "      <td>141.6180</td>\n",
              "      <td>OUT049</td>\n",
              "      <td>1999</td>\n",
              "      <td>Medium</td>\n",
              "      <td>Tier 1</td>\n",
              "      <td>Supermarket Type1</td>\n",
              "      <td>2097.2700</td>\n",
              "    </tr>\n",
              "    <tr>\n",
              "      <th>3</th>\n",
              "      <td>FDX07</td>\n",
              "      <td>19.20</td>\n",
              "      <td>Regular</td>\n",
              "      <td>0.000000</td>\n",
              "      <td>Fruits and Vegetables</td>\n",
              "      <td>182.0950</td>\n",
              "      <td>OUT010</td>\n",
              "      <td>1998</td>\n",
              "      <td>NaN</td>\n",
              "      <td>Tier 3</td>\n",
              "      <td>Grocery Store</td>\n",
              "      <td>732.3800</td>\n",
              "    </tr>\n",
              "    <tr>\n",
              "      <th>4</th>\n",
              "      <td>NCD19</td>\n",
              "      <td>8.93</td>\n",
              "      <td>Low Fat</td>\n",
              "      <td>0.000000</td>\n",
              "      <td>Household</td>\n",
              "      <td>53.8614</td>\n",
              "      <td>OUT013</td>\n",
              "      <td>1987</td>\n",
              "      <td>High</td>\n",
              "      <td>Tier 3</td>\n",
              "      <td>Supermarket Type1</td>\n",
              "      <td>994.7052</td>\n",
              "    </tr>\n",
              "  </tbody>\n",
              "</table>\n",
              "</div>"
            ],
            "text/plain": [
              "  Item_Identifier  Item_Weight  ...        Outlet_Type  Item_Outlet_Sales\n",
              "0           FDA15         9.30  ...  Supermarket Type1          3735.1380\n",
              "1           DRC01         5.92  ...  Supermarket Type2           443.4228\n",
              "2           FDN15        17.50  ...  Supermarket Type1          2097.2700\n",
              "3           FDX07        19.20  ...      Grocery Store           732.3800\n",
              "4           NCD19         8.93  ...  Supermarket Type1           994.7052\n",
              "\n",
              "[5 rows x 12 columns]"
            ]
          },
          "metadata": {
            "tags": []
          },
          "execution_count": 4
        }
      ]
    },
    {
      "cell_type": "code",
      "metadata": {
        "id": "-drFdo1uLhCF",
        "colab_type": "code",
        "colab": {
          "base_uri": "https://localhost:8080/",
          "height": 136
        },
        "outputId": "ebed2296-5c3c-4a4f-8a94-9f5c11697561"
      },
      "source": [
        "#Multiple records of loanids?\n",
        "data.groupby(['Item_Identifier','Outlet_Identifier']).size().sort_values(ascending=False).head() #No"
      ],
      "execution_count": 5,
      "outputs": [
        {
          "output_type": "execute_result",
          "data": {
            "text/plain": [
              "Item_Identifier  Outlet_Identifier\n",
              "NCZ54            OUT049               1\n",
              "FDJ27            OUT049               1\n",
              "FDJ22            OUT017               1\n",
              "                 OUT018               1\n",
              "                 OUT019               1\n",
              "dtype: int64"
            ]
          },
          "metadata": {
            "tags": []
          },
          "execution_count": 5
        }
      ]
    },
    {
      "cell_type": "markdown",
      "metadata": {
        "id": "ahbp2BMMNtON",
        "colab_type": "text"
      },
      "source": [
        "## 1. Filling the missing values"
      ]
    },
    {
      "cell_type": "markdown",
      "metadata": {
        "id": "gq_Pa339NxYh",
        "colab_type": "text"
      },
      "source": [
        "### Categorical Data: Mode"
      ]
    },
    {
      "cell_type": "code",
      "metadata": {
        "id": "fO71iNez8wqO",
        "colab_type": "code",
        "colab": {}
      },
      "source": [
        "\n",
        "data['Outlet_Size'].fillna(data['Outlet_Size'].mode()[0], inplace=True)"
      ],
      "execution_count": 6,
      "outputs": []
    },
    {
      "cell_type": "code",
      "metadata": {
        "id": "n33IPTid_cBb",
        "colab_type": "code",
        "colab": {}
      },
      "source": [
        "# data.isnull().sum()"
      ],
      "execution_count": 7,
      "outputs": []
    },
    {
      "cell_type": "markdown",
      "metadata": {
        "id": "BMk8fTuXN3hl",
        "colab_type": "text"
      },
      "source": [
        "### Continuous Data: Mean"
      ]
    },
    {
      "cell_type": "code",
      "metadata": {
        "id": "xEJuWOuBNooT",
        "colab_type": "code",
        "colab": {}
      },
      "source": [
        "# filling missing values of continuous variables with mean\n",
        "data['Item_Weight'].fillna(data['Item_Weight'].mean(), inplace=True)"
      ],
      "execution_count": 8,
      "outputs": []
    },
    {
      "cell_type": "code",
      "metadata": {
        "id": "XcJRFzJpNo0X",
        "colab_type": "code",
        "colab": {
          "base_uri": "https://localhost:8080/",
          "height": 238
        },
        "outputId": "4a75179d-d17d-45b0-cfb8-94bd9a4593ff"
      },
      "source": [
        "# checking missing values after imputation\n",
        "print(\"Nulls\",round((data.isnull().sum()/len(data))*100,2) )"
      ],
      "execution_count": 9,
      "outputs": [
        {
          "output_type": "stream",
          "text": [
            "Nulls Item_Identifier              0.0\n",
            "Item_Weight                  0.0\n",
            "Item_Fat_Content             0.0\n",
            "Item_Visibility              0.0\n",
            "Item_Type                    0.0\n",
            "Item_MRP                     0.0\n",
            "Outlet_Identifier            0.0\n",
            "Outlet_Establishment_Year    0.0\n",
            "Outlet_Size                  0.0\n",
            "Outlet_Location_Type         0.0\n",
            "Outlet_Type                  0.0\n",
            "Item_Outlet_Sales            0.0\n",
            "dtype: float64\n"
          ],
          "name": "stdout"
        }
      ]
    },
    {
      "cell_type": "markdown",
      "metadata": {
        "id": "2dCH5Nw6N9TW",
        "colab_type": "text"
      },
      "source": [
        "## 2. Converting categories to numbers"
      ]
    },
    {
      "cell_type": "code",
      "metadata": {
        "id": "708xQMg21kSW",
        "colab_type": "code",
        "colab": {
          "base_uri": "https://localhost:8080/",
          "height": 34
        },
        "outputId": "a0a0b81b-585c-4cb1-8e14-dcd54569fc18"
      },
      "source": [
        "data.Item_Fat_Content.unique()"
      ],
      "execution_count": 10,
      "outputs": [
        {
          "output_type": "execute_result",
          "data": {
            "text/plain": [
              "array(['Low Fat', 'Regular', 'low fat', 'LF', 'reg'], dtype=object)"
            ]
          },
          "metadata": {
            "tags": []
          },
          "execution_count": 10
        }
      ]
    },
    {
      "cell_type": "code",
      "metadata": {
        "id": "DF71rpsBR66f",
        "colab_type": "code",
        "colab": {
          "base_uri": "https://localhost:8080/",
          "height": 71
        },
        "outputId": "bb2fab5e-8fbe-4ee5-bf7e-6234472fcbad"
      },
      "source": [
        "cat_cols = data.select_dtypes(include=['object']).columns.tolist()\n",
        "print(cat_cols)\n",
        "cat_cols.remove('Item_Identifier')\n",
        "cat_cols.remove('Outlet_Identifier')\n",
        "cat_cols.remove('Item_Fat_Content')\n",
        "cat_cols"
      ],
      "execution_count": 11,
      "outputs": [
        {
          "output_type": "stream",
          "text": [
            "['Item_Identifier', 'Item_Fat_Content', 'Item_Type', 'Outlet_Identifier', 'Outlet_Size', 'Outlet_Location_Type', 'Outlet_Type']\n"
          ],
          "name": "stdout"
        },
        {
          "output_type": "execute_result",
          "data": {
            "text/plain": [
              "['Item_Type', 'Outlet_Size', 'Outlet_Location_Type', 'Outlet_Type']"
            ]
          },
          "metadata": {
            "tags": []
          },
          "execution_count": 11
        }
      ]
    },
    {
      "cell_type": "code",
      "metadata": {
        "id": "_PgjTTdSNozA",
        "colab_type": "code",
        "colab": {
          "base_uri": "https://localhost:8080/",
          "height": 34
        },
        "outputId": "48650503-ad12-4ddc-c159-daf5c18439ea"
      },
      "source": [
        "# converting the categories into numbers using map function\n",
        "dict1 = {'Low Fat': 0, 'low fat': 0, 'LF':0, 'Regular':1, 'reg': 1}\n",
        "data['Item_Fat_Content'] = data['Item_Fat_Content'].map(dict1)\n",
        "data.Item_Fat_Content.unique()"
      ],
      "execution_count": 12,
      "outputs": [
        {
          "output_type": "execute_result",
          "data": {
            "text/plain": [
              "array([0, 1])"
            ]
          },
          "metadata": {
            "tags": []
          },
          "execution_count": 12
        }
      ]
    },
    {
      "cell_type": "code",
      "metadata": {
        "id": "4Lm1vhgxTXVj",
        "colab_type": "code",
        "colab": {}
      },
      "source": [
        "data_item_id = data[\"Item_Identifier\"].copy()\n",
        "data_outlet_id = data[\"Outlet_Identifier\"].copy()\n",
        "data_target = data['Item_Outlet_Sales'].copy()\n",
        "model_df = data.drop([\"Item_Identifier\",\"Outlet_Identifier\",\"Item_Outlet_Sales\"], axis = 1)\n",
        "num_cols = model_df.select_dtypes(include=['float','int']).columns.tolist()\n",
        "num_cols\n",
        "# Convert categorical variables to numeric - one hot encoder\n",
        "\n",
        "from sklearn.preprocessing import OneHotEncoder\n",
        "\n",
        "\n",
        "cat_encoder = OneHotEncoder(sparse=False)\n",
        "model_cat = model_df[cat_cols]\n",
        "model_cat_1hot = cat_encoder.fit_transform(model_cat)\n",
        "# model_cat_1hot.toarray()\n",
        "\n",
        "#     print(cat_encoder.categories_)\n",
        "\n",
        "\n",
        "# Scale numeric\n",
        "from sklearn.pipeline import Pipeline\n",
        "from sklearn.preprocessing import StandardScaler\n",
        "\n",
        "num_pipeline = Pipeline([\n",
        "    ('std_scaler', StandardScaler())\n",
        "])\n",
        "\n",
        "\n",
        "\n",
        "\n",
        "model_num = model_df.drop(cat_cols, axis = 1)\n",
        "model_num_tr = num_pipeline.fit_transform(model_num)\n",
        "\n",
        "\n",
        "from sklearn.compose import ColumnTransformer\n",
        "\n",
        "num_attribs = list(model_num)\n",
        "cat_attribs = cat_cols\n",
        "\n",
        "full_pipeline = ColumnTransformer([\n",
        "    ('num', num_pipeline, num_attribs),\n",
        "    ('cat', OneHotEncoder(sparse=False), cat_attribs)\n",
        "])\n",
        "\n",
        "\n",
        "model_prepared = full_pipeline.fit_transform(model_df)\n",
        "\n"
      ],
      "execution_count": 13,
      "outputs": []
    },
    {
      "cell_type": "code",
      "metadata": {
        "id": "Ejc_k3YIU-fl",
        "colab_type": "code",
        "colab": {
          "base_uri": "https://localhost:8080/",
          "height": 258
        },
        "outputId": "1b6d8056-6de5-43a3-fbdc-6a414822bd9a"
      },
      "source": [
        "trans_df = pd.DataFrame(\n",
        "    model_prepared,\n",
        "    columns=num_cols + cat_encoder.get_feature_names().tolist())\n",
        "\n",
        "trans_df[\"Item_Identifier\"] = data_item_id\n",
        "trans_df[\"Outlet_Identifier\"] = data_outlet_id\n",
        "trans_df[\"Item_Outlet_Sales\"] = data_target\n",
        "cols = list(trans_df)\n",
        "cols.insert(0, cols.pop(cols.index('Outlet_Identifier')))\n",
        "cols.insert(0, cols.pop(cols.index('Item_Identifier')))\n",
        "trans_df = trans_df.loc[:, cols]\n",
        "trans_df.head()"
      ],
      "execution_count": 14,
      "outputs": [
        {
          "output_type": "execute_result",
          "data": {
            "text/html": [
              "<div>\n",
              "<style scoped>\n",
              "    .dataframe tbody tr th:only-of-type {\n",
              "        vertical-align: middle;\n",
              "    }\n",
              "\n",
              "    .dataframe tbody tr th {\n",
              "        vertical-align: top;\n",
              "    }\n",
              "\n",
              "    .dataframe thead th {\n",
              "        text-align: right;\n",
              "    }\n",
              "</style>\n",
              "<table border=\"1\" class=\"dataframe\">\n",
              "  <thead>\n",
              "    <tr style=\"text-align: right;\">\n",
              "      <th></th>\n",
              "      <th>Item_Identifier</th>\n",
              "      <th>Outlet_Identifier</th>\n",
              "      <th>Item_Weight</th>\n",
              "      <th>Item_Fat_Content</th>\n",
              "      <th>Item_Visibility</th>\n",
              "      <th>Item_MRP</th>\n",
              "      <th>Outlet_Establishment_Year</th>\n",
              "      <th>x0_Baking Goods</th>\n",
              "      <th>x0_Breads</th>\n",
              "      <th>x0_Breakfast</th>\n",
              "      <th>x0_Canned</th>\n",
              "      <th>x0_Dairy</th>\n",
              "      <th>x0_Frozen Foods</th>\n",
              "      <th>x0_Fruits and Vegetables</th>\n",
              "      <th>x0_Hard Drinks</th>\n",
              "      <th>x0_Health and Hygiene</th>\n",
              "      <th>x0_Household</th>\n",
              "      <th>x0_Meat</th>\n",
              "      <th>x0_Others</th>\n",
              "      <th>x0_Seafood</th>\n",
              "      <th>x0_Snack Foods</th>\n",
              "      <th>x0_Soft Drinks</th>\n",
              "      <th>x0_Starchy Foods</th>\n",
              "      <th>x1_High</th>\n",
              "      <th>x1_Medium</th>\n",
              "      <th>x1_Small</th>\n",
              "      <th>x2_Tier 1</th>\n",
              "      <th>x2_Tier 2</th>\n",
              "      <th>x2_Tier 3</th>\n",
              "      <th>x3_Grocery Store</th>\n",
              "      <th>x3_Supermarket Type1</th>\n",
              "      <th>x3_Supermarket Type2</th>\n",
              "      <th>x3_Supermarket Type3</th>\n",
              "      <th>Item_Outlet_Sales</th>\n",
              "    </tr>\n",
              "  </thead>\n",
              "  <tbody>\n",
              "    <tr>\n",
              "      <th>0</th>\n",
              "      <td>FDA15</td>\n",
              "      <td>OUT049</td>\n",
              "      <td>-0.841872</td>\n",
              "      <td>-0.738147</td>\n",
              "      <td>-0.970732</td>\n",
              "      <td>1.747454</td>\n",
              "      <td>0.139541</td>\n",
              "      <td>0.0</td>\n",
              "      <td>0.0</td>\n",
              "      <td>0.0</td>\n",
              "      <td>0.0</td>\n",
              "      <td>1.0</td>\n",
              "      <td>0.0</td>\n",
              "      <td>0.0</td>\n",
              "      <td>0.0</td>\n",
              "      <td>0.0</td>\n",
              "      <td>0.0</td>\n",
              "      <td>0.0</td>\n",
              "      <td>0.0</td>\n",
              "      <td>0.0</td>\n",
              "      <td>0.0</td>\n",
              "      <td>0.0</td>\n",
              "      <td>0.0</td>\n",
              "      <td>0.0</td>\n",
              "      <td>1.0</td>\n",
              "      <td>0.0</td>\n",
              "      <td>1.0</td>\n",
              "      <td>0.0</td>\n",
              "      <td>0.0</td>\n",
              "      <td>0.0</td>\n",
              "      <td>1.0</td>\n",
              "      <td>0.0</td>\n",
              "      <td>0.0</td>\n",
              "      <td>3735.1380</td>\n",
              "    </tr>\n",
              "    <tr>\n",
              "      <th>1</th>\n",
              "      <td>DRC01</td>\n",
              "      <td>OUT018</td>\n",
              "      <td>-1.641706</td>\n",
              "      <td>1.354743</td>\n",
              "      <td>-0.908111</td>\n",
              "      <td>-1.489023</td>\n",
              "      <td>1.334103</td>\n",
              "      <td>0.0</td>\n",
              "      <td>0.0</td>\n",
              "      <td>0.0</td>\n",
              "      <td>0.0</td>\n",
              "      <td>0.0</td>\n",
              "      <td>0.0</td>\n",
              "      <td>0.0</td>\n",
              "      <td>0.0</td>\n",
              "      <td>0.0</td>\n",
              "      <td>0.0</td>\n",
              "      <td>0.0</td>\n",
              "      <td>0.0</td>\n",
              "      <td>0.0</td>\n",
              "      <td>0.0</td>\n",
              "      <td>1.0</td>\n",
              "      <td>0.0</td>\n",
              "      <td>0.0</td>\n",
              "      <td>1.0</td>\n",
              "      <td>0.0</td>\n",
              "      <td>0.0</td>\n",
              "      <td>0.0</td>\n",
              "      <td>1.0</td>\n",
              "      <td>0.0</td>\n",
              "      <td>0.0</td>\n",
              "      <td>1.0</td>\n",
              "      <td>0.0</td>\n",
              "      <td>443.4228</td>\n",
              "    </tr>\n",
              "    <tr>\n",
              "      <th>2</th>\n",
              "      <td>FDN15</td>\n",
              "      <td>OUT049</td>\n",
              "      <td>1.098554</td>\n",
              "      <td>-0.738147</td>\n",
              "      <td>-0.956917</td>\n",
              "      <td>0.010040</td>\n",
              "      <td>0.139541</td>\n",
              "      <td>0.0</td>\n",
              "      <td>0.0</td>\n",
              "      <td>0.0</td>\n",
              "      <td>0.0</td>\n",
              "      <td>0.0</td>\n",
              "      <td>0.0</td>\n",
              "      <td>0.0</td>\n",
              "      <td>0.0</td>\n",
              "      <td>0.0</td>\n",
              "      <td>0.0</td>\n",
              "      <td>1.0</td>\n",
              "      <td>0.0</td>\n",
              "      <td>0.0</td>\n",
              "      <td>0.0</td>\n",
              "      <td>0.0</td>\n",
              "      <td>0.0</td>\n",
              "      <td>0.0</td>\n",
              "      <td>1.0</td>\n",
              "      <td>0.0</td>\n",
              "      <td>1.0</td>\n",
              "      <td>0.0</td>\n",
              "      <td>0.0</td>\n",
              "      <td>0.0</td>\n",
              "      <td>1.0</td>\n",
              "      <td>0.0</td>\n",
              "      <td>0.0</td>\n",
              "      <td>2097.2700</td>\n",
              "    </tr>\n",
              "    <tr>\n",
              "      <th>3</th>\n",
              "      <td>FDX07</td>\n",
              "      <td>OUT010</td>\n",
              "      <td>1.500838</td>\n",
              "      <td>1.354743</td>\n",
              "      <td>-1.281758</td>\n",
              "      <td>0.660050</td>\n",
              "      <td>0.020085</td>\n",
              "      <td>0.0</td>\n",
              "      <td>0.0</td>\n",
              "      <td>0.0</td>\n",
              "      <td>0.0</td>\n",
              "      <td>0.0</td>\n",
              "      <td>0.0</td>\n",
              "      <td>1.0</td>\n",
              "      <td>0.0</td>\n",
              "      <td>0.0</td>\n",
              "      <td>0.0</td>\n",
              "      <td>0.0</td>\n",
              "      <td>0.0</td>\n",
              "      <td>0.0</td>\n",
              "      <td>0.0</td>\n",
              "      <td>0.0</td>\n",
              "      <td>0.0</td>\n",
              "      <td>0.0</td>\n",
              "      <td>1.0</td>\n",
              "      <td>0.0</td>\n",
              "      <td>0.0</td>\n",
              "      <td>0.0</td>\n",
              "      <td>1.0</td>\n",
              "      <td>1.0</td>\n",
              "      <td>0.0</td>\n",
              "      <td>0.0</td>\n",
              "      <td>0.0</td>\n",
              "      <td>732.3800</td>\n",
              "    </tr>\n",
              "    <tr>\n",
              "      <th>4</th>\n",
              "      <td>NCD19</td>\n",
              "      <td>OUT013</td>\n",
              "      <td>-0.929428</td>\n",
              "      <td>-0.738147</td>\n",
              "      <td>-1.281758</td>\n",
              "      <td>-1.399220</td>\n",
              "      <td>-1.293934</td>\n",
              "      <td>0.0</td>\n",
              "      <td>0.0</td>\n",
              "      <td>0.0</td>\n",
              "      <td>0.0</td>\n",
              "      <td>0.0</td>\n",
              "      <td>0.0</td>\n",
              "      <td>0.0</td>\n",
              "      <td>0.0</td>\n",
              "      <td>0.0</td>\n",
              "      <td>1.0</td>\n",
              "      <td>0.0</td>\n",
              "      <td>0.0</td>\n",
              "      <td>0.0</td>\n",
              "      <td>0.0</td>\n",
              "      <td>0.0</td>\n",
              "      <td>0.0</td>\n",
              "      <td>1.0</td>\n",
              "      <td>0.0</td>\n",
              "      <td>0.0</td>\n",
              "      <td>0.0</td>\n",
              "      <td>0.0</td>\n",
              "      <td>1.0</td>\n",
              "      <td>0.0</td>\n",
              "      <td>1.0</td>\n",
              "      <td>0.0</td>\n",
              "      <td>0.0</td>\n",
              "      <td>994.7052</td>\n",
              "    </tr>\n",
              "  </tbody>\n",
              "</table>\n",
              "</div>"
            ],
            "text/plain": [
              "  Item_Identifier Outlet_Identifier  ...  x3_Supermarket Type3  Item_Outlet_Sales\n",
              "0           FDA15            OUT049  ...                   0.0          3735.1380\n",
              "1           DRC01            OUT018  ...                   0.0           443.4228\n",
              "2           FDN15            OUT049  ...                   0.0          2097.2700\n",
              "3           FDX07            OUT010  ...                   0.0           732.3800\n",
              "4           NCD19            OUT013  ...                   0.0           994.7052\n",
              "\n",
              "[5 rows x 34 columns]"
            ]
          },
          "metadata": {
            "tags": []
          },
          "execution_count": 14
        }
      ]
    },
    {
      "cell_type": "code",
      "metadata": {
        "id": "qbmi0N3-N-Z_",
        "colab_type": "code",
        "colab": {}
      },
      "source": [
        "# saving the pre-processed data\n",
        "trans_df.to_csv('bigmart_processed_data.csv', index=False)"
      ],
      "execution_count": 15,
      "outputs": []
    },
    {
      "cell_type": "markdown",
      "metadata": {
        "id": "IE2azvitPMSR",
        "colab_type": "text"
      },
      "source": [
        "#Solving_Loan_Prediction_problem_using_Neural_Network"
      ]
    },
    {
      "cell_type": "code",
      "metadata": {
        "id": "vN-R9eQFPbYt",
        "colab_type": "code",
        "colab": {
          "base_uri": "https://localhost:8080/",
          "height": 34
        },
        "outputId": "bf2c1e6c-97f3-4050-c834-4308cff20235"
      },
      "source": [
        "%tensorflow_version 1.x"
      ],
      "execution_count": 16,
      "outputs": [
        {
          "output_type": "stream",
          "text": [
            "TensorFlow 1.x selected.\n"
          ],
          "name": "stdout"
        }
      ]
    },
    {
      "cell_type": "markdown",
      "metadata": {
        "id": "1p_NspnlPRaR",
        "colab_type": "text"
      },
      "source": [
        "# Steps to build a Neural Network using Keras\n",
        "\n",
        "<ol>1. Loading the dataset</ol>\n",
        "<ol>2. Creating training and validation set</ol>\n",
        "<ol>3. Defining the architecture of the model</ol>\n",
        "<ol>4. Compiling the model (defining loss function, optimizer)</ol>\n",
        "<ol>5. Training the model</ol>\n",
        "<ol>6. Evaluating model performance on training and validation set</ol>"
      ]
    },
    {
      "cell_type": "markdown",
      "metadata": {
        "id": "3QCfxtL5PU10",
        "colab_type": "text"
      },
      "source": [
        "## 1. Loading the dataset"
      ]
    },
    {
      "cell_type": "code",
      "metadata": {
        "id": "uEVnDPC4Notz",
        "colab_type": "code",
        "colab": {}
      },
      "source": [
        "# importing the required libraries\n",
        "import pandas as pd\n",
        "import numpy as np\n",
        "import sklearn\n",
        "from sklearn.model_selection import train_test_split\n",
        "from sklearn.metrics import accuracy_score\n",
        "import matplotlib.pyplot as plt\n",
        "%matplotlib inline"
      ],
      "execution_count": 17,
      "outputs": []
    },
    {
      "cell_type": "code",
      "metadata": {
        "id": "wG6ZxHXvPQVW",
        "colab_type": "code",
        "colab": {
          "base_uri": "https://localhost:8080/",
          "height": 34
        },
        "outputId": "e95e7c7a-f858-4582-dae0-26f64358894f"
      },
      "source": [
        "# check version on sklearn\n",
        "print('Version of sklearn:', sklearn.__version__)"
      ],
      "execution_count": 18,
      "outputs": [
        {
          "output_type": "stream",
          "text": [
            "Version of sklearn: 0.22.2.post1\n"
          ],
          "name": "stdout"
        }
      ]
    },
    {
      "cell_type": "code",
      "metadata": {
        "id": "NEsyd1iwPQkU",
        "colab_type": "code",
        "colab": {}
      },
      "source": [
        "# loading the pre-processed dataset\n",
        "data = pd.read_csv('bigmart_processed_data.csv')"
      ],
      "execution_count": 19,
      "outputs": []
    },
    {
      "cell_type": "code",
      "metadata": {
        "id": "MKO_bTgXPQhu",
        "colab_type": "code",
        "colab": {
          "base_uri": "https://localhost:8080/",
          "height": 258
        },
        "outputId": "4237acc2-43dc-4493-b4d6-c6b84ecaa748"
      },
      "source": [
        "# looking at the first five rows of the dataset\n",
        "data.head()"
      ],
      "execution_count": 20,
      "outputs": [
        {
          "output_type": "execute_result",
          "data": {
            "text/html": [
              "<div>\n",
              "<style scoped>\n",
              "    .dataframe tbody tr th:only-of-type {\n",
              "        vertical-align: middle;\n",
              "    }\n",
              "\n",
              "    .dataframe tbody tr th {\n",
              "        vertical-align: top;\n",
              "    }\n",
              "\n",
              "    .dataframe thead th {\n",
              "        text-align: right;\n",
              "    }\n",
              "</style>\n",
              "<table border=\"1\" class=\"dataframe\">\n",
              "  <thead>\n",
              "    <tr style=\"text-align: right;\">\n",
              "      <th></th>\n",
              "      <th>Item_Identifier</th>\n",
              "      <th>Outlet_Identifier</th>\n",
              "      <th>Item_Weight</th>\n",
              "      <th>Item_Fat_Content</th>\n",
              "      <th>Item_Visibility</th>\n",
              "      <th>Item_MRP</th>\n",
              "      <th>Outlet_Establishment_Year</th>\n",
              "      <th>x0_Baking Goods</th>\n",
              "      <th>x0_Breads</th>\n",
              "      <th>x0_Breakfast</th>\n",
              "      <th>x0_Canned</th>\n",
              "      <th>x0_Dairy</th>\n",
              "      <th>x0_Frozen Foods</th>\n",
              "      <th>x0_Fruits and Vegetables</th>\n",
              "      <th>x0_Hard Drinks</th>\n",
              "      <th>x0_Health and Hygiene</th>\n",
              "      <th>x0_Household</th>\n",
              "      <th>x0_Meat</th>\n",
              "      <th>x0_Others</th>\n",
              "      <th>x0_Seafood</th>\n",
              "      <th>x0_Snack Foods</th>\n",
              "      <th>x0_Soft Drinks</th>\n",
              "      <th>x0_Starchy Foods</th>\n",
              "      <th>x1_High</th>\n",
              "      <th>x1_Medium</th>\n",
              "      <th>x1_Small</th>\n",
              "      <th>x2_Tier 1</th>\n",
              "      <th>x2_Tier 2</th>\n",
              "      <th>x2_Tier 3</th>\n",
              "      <th>x3_Grocery Store</th>\n",
              "      <th>x3_Supermarket Type1</th>\n",
              "      <th>x3_Supermarket Type2</th>\n",
              "      <th>x3_Supermarket Type3</th>\n",
              "      <th>Item_Outlet_Sales</th>\n",
              "    </tr>\n",
              "  </thead>\n",
              "  <tbody>\n",
              "    <tr>\n",
              "      <th>0</th>\n",
              "      <td>FDA15</td>\n",
              "      <td>OUT049</td>\n",
              "      <td>-0.841872</td>\n",
              "      <td>-0.738147</td>\n",
              "      <td>-0.970732</td>\n",
              "      <td>1.747454</td>\n",
              "      <td>0.139541</td>\n",
              "      <td>0.0</td>\n",
              "      <td>0.0</td>\n",
              "      <td>0.0</td>\n",
              "      <td>0.0</td>\n",
              "      <td>1.0</td>\n",
              "      <td>0.0</td>\n",
              "      <td>0.0</td>\n",
              "      <td>0.0</td>\n",
              "      <td>0.0</td>\n",
              "      <td>0.0</td>\n",
              "      <td>0.0</td>\n",
              "      <td>0.0</td>\n",
              "      <td>0.0</td>\n",
              "      <td>0.0</td>\n",
              "      <td>0.0</td>\n",
              "      <td>0.0</td>\n",
              "      <td>0.0</td>\n",
              "      <td>1.0</td>\n",
              "      <td>0.0</td>\n",
              "      <td>1.0</td>\n",
              "      <td>0.0</td>\n",
              "      <td>0.0</td>\n",
              "      <td>0.0</td>\n",
              "      <td>1.0</td>\n",
              "      <td>0.0</td>\n",
              "      <td>0.0</td>\n",
              "      <td>3735.1380</td>\n",
              "    </tr>\n",
              "    <tr>\n",
              "      <th>1</th>\n",
              "      <td>DRC01</td>\n",
              "      <td>OUT018</td>\n",
              "      <td>-1.641706</td>\n",
              "      <td>1.354743</td>\n",
              "      <td>-0.908111</td>\n",
              "      <td>-1.489023</td>\n",
              "      <td>1.334103</td>\n",
              "      <td>0.0</td>\n",
              "      <td>0.0</td>\n",
              "      <td>0.0</td>\n",
              "      <td>0.0</td>\n",
              "      <td>0.0</td>\n",
              "      <td>0.0</td>\n",
              "      <td>0.0</td>\n",
              "      <td>0.0</td>\n",
              "      <td>0.0</td>\n",
              "      <td>0.0</td>\n",
              "      <td>0.0</td>\n",
              "      <td>0.0</td>\n",
              "      <td>0.0</td>\n",
              "      <td>0.0</td>\n",
              "      <td>1.0</td>\n",
              "      <td>0.0</td>\n",
              "      <td>0.0</td>\n",
              "      <td>1.0</td>\n",
              "      <td>0.0</td>\n",
              "      <td>0.0</td>\n",
              "      <td>0.0</td>\n",
              "      <td>1.0</td>\n",
              "      <td>0.0</td>\n",
              "      <td>0.0</td>\n",
              "      <td>1.0</td>\n",
              "      <td>0.0</td>\n",
              "      <td>443.4228</td>\n",
              "    </tr>\n",
              "    <tr>\n",
              "      <th>2</th>\n",
              "      <td>FDN15</td>\n",
              "      <td>OUT049</td>\n",
              "      <td>1.098554</td>\n",
              "      <td>-0.738147</td>\n",
              "      <td>-0.956917</td>\n",
              "      <td>0.010040</td>\n",
              "      <td>0.139541</td>\n",
              "      <td>0.0</td>\n",
              "      <td>0.0</td>\n",
              "      <td>0.0</td>\n",
              "      <td>0.0</td>\n",
              "      <td>0.0</td>\n",
              "      <td>0.0</td>\n",
              "      <td>0.0</td>\n",
              "      <td>0.0</td>\n",
              "      <td>0.0</td>\n",
              "      <td>0.0</td>\n",
              "      <td>1.0</td>\n",
              "      <td>0.0</td>\n",
              "      <td>0.0</td>\n",
              "      <td>0.0</td>\n",
              "      <td>0.0</td>\n",
              "      <td>0.0</td>\n",
              "      <td>0.0</td>\n",
              "      <td>1.0</td>\n",
              "      <td>0.0</td>\n",
              "      <td>1.0</td>\n",
              "      <td>0.0</td>\n",
              "      <td>0.0</td>\n",
              "      <td>0.0</td>\n",
              "      <td>1.0</td>\n",
              "      <td>0.0</td>\n",
              "      <td>0.0</td>\n",
              "      <td>2097.2700</td>\n",
              "    </tr>\n",
              "    <tr>\n",
              "      <th>3</th>\n",
              "      <td>FDX07</td>\n",
              "      <td>OUT010</td>\n",
              "      <td>1.500838</td>\n",
              "      <td>1.354743</td>\n",
              "      <td>-1.281758</td>\n",
              "      <td>0.660050</td>\n",
              "      <td>0.020085</td>\n",
              "      <td>0.0</td>\n",
              "      <td>0.0</td>\n",
              "      <td>0.0</td>\n",
              "      <td>0.0</td>\n",
              "      <td>0.0</td>\n",
              "      <td>0.0</td>\n",
              "      <td>1.0</td>\n",
              "      <td>0.0</td>\n",
              "      <td>0.0</td>\n",
              "      <td>0.0</td>\n",
              "      <td>0.0</td>\n",
              "      <td>0.0</td>\n",
              "      <td>0.0</td>\n",
              "      <td>0.0</td>\n",
              "      <td>0.0</td>\n",
              "      <td>0.0</td>\n",
              "      <td>0.0</td>\n",
              "      <td>1.0</td>\n",
              "      <td>0.0</td>\n",
              "      <td>0.0</td>\n",
              "      <td>0.0</td>\n",
              "      <td>1.0</td>\n",
              "      <td>1.0</td>\n",
              "      <td>0.0</td>\n",
              "      <td>0.0</td>\n",
              "      <td>0.0</td>\n",
              "      <td>732.3800</td>\n",
              "    </tr>\n",
              "    <tr>\n",
              "      <th>4</th>\n",
              "      <td>NCD19</td>\n",
              "      <td>OUT013</td>\n",
              "      <td>-0.929428</td>\n",
              "      <td>-0.738147</td>\n",
              "      <td>-1.281758</td>\n",
              "      <td>-1.399220</td>\n",
              "      <td>-1.293934</td>\n",
              "      <td>0.0</td>\n",
              "      <td>0.0</td>\n",
              "      <td>0.0</td>\n",
              "      <td>0.0</td>\n",
              "      <td>0.0</td>\n",
              "      <td>0.0</td>\n",
              "      <td>0.0</td>\n",
              "      <td>0.0</td>\n",
              "      <td>0.0</td>\n",
              "      <td>1.0</td>\n",
              "      <td>0.0</td>\n",
              "      <td>0.0</td>\n",
              "      <td>0.0</td>\n",
              "      <td>0.0</td>\n",
              "      <td>0.0</td>\n",
              "      <td>0.0</td>\n",
              "      <td>1.0</td>\n",
              "      <td>0.0</td>\n",
              "      <td>0.0</td>\n",
              "      <td>0.0</td>\n",
              "      <td>0.0</td>\n",
              "      <td>1.0</td>\n",
              "      <td>0.0</td>\n",
              "      <td>1.0</td>\n",
              "      <td>0.0</td>\n",
              "      <td>0.0</td>\n",
              "      <td>994.7052</td>\n",
              "    </tr>\n",
              "  </tbody>\n",
              "</table>\n",
              "</div>"
            ],
            "text/plain": [
              "  Item_Identifier Outlet_Identifier  ...  x3_Supermarket Type3  Item_Outlet_Sales\n",
              "0           FDA15            OUT049  ...                   0.0          3735.1380\n",
              "1           DRC01            OUT018  ...                   0.0           443.4228\n",
              "2           FDN15            OUT049  ...                   0.0          2097.2700\n",
              "3           FDX07            OUT010  ...                   0.0           732.3800\n",
              "4           NCD19            OUT013  ...                   0.0           994.7052\n",
              "\n",
              "[5 rows x 34 columns]"
            ]
          },
          "metadata": {
            "tags": []
          },
          "execution_count": 20
        }
      ]
    },
    {
      "cell_type": "code",
      "metadata": {
        "id": "uVFY98tcPQf0",
        "colab_type": "code",
        "colab": {
          "base_uri": "https://localhost:8080/",
          "height": 612
        },
        "outputId": "fc9e0e3a-b24c-45a1-b207-4471e54e2487"
      },
      "source": [
        "\n",
        "# checking missing values\n",
        "data.isnull().sum()"
      ],
      "execution_count": 21,
      "outputs": [
        {
          "output_type": "execute_result",
          "data": {
            "text/plain": [
              "Item_Identifier              0\n",
              "Outlet_Identifier            0\n",
              "Item_Weight                  0\n",
              "Item_Fat_Content             0\n",
              "Item_Visibility              0\n",
              "Item_MRP                     0\n",
              "Outlet_Establishment_Year    0\n",
              "x0_Baking Goods              0\n",
              "x0_Breads                    0\n",
              "x0_Breakfast                 0\n",
              "x0_Canned                    0\n",
              "x0_Dairy                     0\n",
              "x0_Frozen Foods              0\n",
              "x0_Fruits and Vegetables     0\n",
              "x0_Hard Drinks               0\n",
              "x0_Health and Hygiene        0\n",
              "x0_Household                 0\n",
              "x0_Meat                      0\n",
              "x0_Others                    0\n",
              "x0_Seafood                   0\n",
              "x0_Snack Foods               0\n",
              "x0_Soft Drinks               0\n",
              "x0_Starchy Foods             0\n",
              "x1_High                      0\n",
              "x1_Medium                    0\n",
              "x1_Small                     0\n",
              "x2_Tier 1                    0\n",
              "x2_Tier 2                    0\n",
              "x2_Tier 3                    0\n",
              "x3_Grocery Store             0\n",
              "x3_Supermarket Type1         0\n",
              "x3_Supermarket Type2         0\n",
              "x3_Supermarket Type3         0\n",
              "Item_Outlet_Sales            0\n",
              "dtype: int64"
            ]
          },
          "metadata": {
            "tags": []
          },
          "execution_count": 21
        }
      ]
    },
    {
      "cell_type": "code",
      "metadata": {
        "id": "9YhjVxrUPQdP",
        "colab_type": "code",
        "colab": {
          "base_uri": "https://localhost:8080/",
          "height": 612
        },
        "outputId": "dbf5f522-d76a-49e6-a1de-893e0dc80672"
      },
      "source": [
        "# checking the data type\n",
        "data.dtypes"
      ],
      "execution_count": 22,
      "outputs": [
        {
          "output_type": "execute_result",
          "data": {
            "text/plain": [
              "Item_Identifier               object\n",
              "Outlet_Identifier             object\n",
              "Item_Weight                  float64\n",
              "Item_Fat_Content             float64\n",
              "Item_Visibility              float64\n",
              "Item_MRP                     float64\n",
              "Outlet_Establishment_Year    float64\n",
              "x0_Baking Goods              float64\n",
              "x0_Breads                    float64\n",
              "x0_Breakfast                 float64\n",
              "x0_Canned                    float64\n",
              "x0_Dairy                     float64\n",
              "x0_Frozen Foods              float64\n",
              "x0_Fruits and Vegetables     float64\n",
              "x0_Hard Drinks               float64\n",
              "x0_Health and Hygiene        float64\n",
              "x0_Household                 float64\n",
              "x0_Meat                      float64\n",
              "x0_Others                    float64\n",
              "x0_Seafood                   float64\n",
              "x0_Snack Foods               float64\n",
              "x0_Soft Drinks               float64\n",
              "x0_Starchy Foods             float64\n",
              "x1_High                      float64\n",
              "x1_Medium                    float64\n",
              "x1_Small                     float64\n",
              "x2_Tier 1                    float64\n",
              "x2_Tier 2                    float64\n",
              "x2_Tier 3                    float64\n",
              "x3_Grocery Store             float64\n",
              "x3_Supermarket Type1         float64\n",
              "x3_Supermarket Type2         float64\n",
              "x3_Supermarket Type3         float64\n",
              "Item_Outlet_Sales            float64\n",
              "dtype: object"
            ]
          },
          "metadata": {
            "tags": []
          },
          "execution_count": 22
        }
      ]
    },
    {
      "cell_type": "code",
      "metadata": {
        "id": "EPJI8a13PQZR",
        "colab_type": "code",
        "colab": {}
      },
      "source": [
        "# removing the loan_ID since these are just the unique values\n",
        "data_item_id = data[\"Item_Identifier\"].copy()\n",
        "data_outlet_id = data[\"Outlet_Identifier\"].copy()\n",
        "data = data.drop([\"Item_Identifier\",\"Outlet_Identifier\"], axis = 1)"
      ],
      "execution_count": 23,
      "outputs": []
    },
    {
      "cell_type": "code",
      "metadata": {
        "id": "83pNINTtPo_d",
        "colab_type": "code",
        "colab": {
          "base_uri": "https://localhost:8080/",
          "height": 34
        },
        "outputId": "e9ae2a18-c538-445f-86f9-aa6bc1fffcc0"
      },
      "source": [
        "# looking at the shape of the data\n",
        "data.shape"
      ],
      "execution_count": 24,
      "outputs": [
        {
          "output_type": "execute_result",
          "data": {
            "text/plain": [
              "(8523, 32)"
            ]
          },
          "metadata": {
            "tags": []
          },
          "execution_count": 24
        }
      ]
    },
    {
      "cell_type": "code",
      "metadata": {
        "id": "CPFcDu1gPqao",
        "colab_type": "code",
        "colab": {}
      },
      "source": [
        "# separating the independent and dependent variables\n",
        "\n",
        "# storing all the independent variables as X\n",
        "X = data.drop('Item_Outlet_Sales', axis=1)\n",
        "\n",
        "# storing the dependent variable as y\n",
        "y = data['Item_Outlet_Sales']"
      ],
      "execution_count": 25,
      "outputs": []
    },
    {
      "cell_type": "code",
      "metadata": {
        "id": "inqAOiR8PrH5",
        "colab_type": "code",
        "colab": {
          "base_uri": "https://localhost:8080/",
          "height": 34
        },
        "outputId": "0c7fb508-4776-44b5-f21b-ae5247cf7859"
      },
      "source": [
        "# shape of independent and dependent variables\n",
        "X.shape, y.shape"
      ],
      "execution_count": 26,
      "outputs": [
        {
          "output_type": "execute_result",
          "data": {
            "text/plain": [
              "((8523, 31), (8523,))"
            ]
          },
          "metadata": {
            "tags": []
          },
          "execution_count": 26
        }
      ]
    },
    {
      "cell_type": "markdown",
      "metadata": {
        "id": "p4ptiksqPz4l",
        "colab_type": "text"
      },
      "source": [
        "## 2. Creating training and validation set"
      ]
    },
    {
      "cell_type": "code",
      "metadata": {
        "id": "wKjj8bUUPrXp",
        "colab_type": "code",
        "colab": {}
      },
      "source": [
        "# Creating training and validation set\n",
        "\n",
        "# random state to regenerate the same train and validation set\n",
        "# test size 0.2 will keep 20% data in validation and remaining 80% in train set\n",
        "\n",
        "X_train,X_test,y_train,y_test = train_test_split(X,y,random_state=10,test_size=0.2)"
      ],
      "execution_count": 27,
      "outputs": []
    },
    {
      "cell_type": "code",
      "metadata": {
        "id": "SN_qV5GIPrUi",
        "colab_type": "code",
        "colab": {
          "base_uri": "https://localhost:8080/",
          "height": 34
        },
        "outputId": "96391e38-d22a-4e88-a3f4-7ee1c6f11111"
      },
      "source": [
        "# shape of training and validation set\n",
        "(X_train.shape, y_train.shape), (X_test.shape, y_test.shape)"
      ],
      "execution_count": 28,
      "outputs": [
        {
          "output_type": "execute_result",
          "data": {
            "text/plain": [
              "(((6818, 31), (6818,)), ((1705, 31), (1705,)))"
            ]
          },
          "metadata": {
            "tags": []
          },
          "execution_count": 28
        }
      ]
    },
    {
      "cell_type": "markdown",
      "metadata": {
        "id": "zSFVe-T6P66I",
        "colab_type": "text"
      },
      "source": [
        "## 3. Defining the architecture of the model"
      ]
    },
    {
      "cell_type": "code",
      "metadata": {
        "id": "GQr5kx_rPrRm",
        "colab_type": "code",
        "colab": {
          "base_uri": "https://localhost:8080/",
          "height": 51
        },
        "outputId": "959723ae-7975-410d-ac00-4f5120cb141c"
      },
      "source": [
        "# checking the version of keras\n",
        "import keras\n",
        "print(keras.__version__)"
      ],
      "execution_count": 29,
      "outputs": [
        {
          "output_type": "stream",
          "text": [
            "Using TensorFlow backend.\n"
          ],
          "name": "stderr"
        },
        {
          "output_type": "stream",
          "text": [
            "2.3.1\n"
          ],
          "name": "stdout"
        }
      ]
    },
    {
      "cell_type": "code",
      "metadata": {
        "id": "fosTz7rjPrOP",
        "colab_type": "code",
        "colab": {
          "base_uri": "https://localhost:8080/",
          "height": 34
        },
        "outputId": "77821c5b-e6d4-47d8-da8f-752b38b11445"
      },
      "source": [
        "# checking the version of tensorflow\n",
        "import tensorflow as tf\n",
        "print(tf.__version__)"
      ],
      "execution_count": 30,
      "outputs": [
        {
          "output_type": "stream",
          "text": [
            "1.15.2\n"
          ],
          "name": "stdout"
        }
      ]
    },
    {
      "cell_type": "markdown",
      "metadata": {
        "id": "fT0aKrDWQDar",
        "colab_type": "text"
      },
      "source": [
        "### a. Create a model\n",
        "\n",
        "<img src='https://drive.google.com/uc?id=1iZNZ3kwSHRNf-Irn3DZmMuBb6K-Lro7w'>"
      ]
    },
    {
      "cell_type": "markdown",
      "metadata": {
        "id": "Frlja5vsQKhx",
        "colab_type": "text"
      },
      "source": [
        "### b. Defining different layers\n",
        "\n",
        "<img src='https://drive.google.com/uc?id=16X6De2hua1XJBe3dfmUUeGTgP6PbXEpc'>"
      ]
    },
    {
      "cell_type": "markdown",
      "metadata": {
        "id": "6DZ73C_SQRaa",
        "colab_type": "text"
      },
      "source": [
        "<img src='https://drive.google.com/uc?id=1tsy4B6G0UN4-J4L4roOdoWQiZMUdgw2a'>"
      ]
    },
    {
      "cell_type": "code",
      "metadata": {
        "id": "i8OqfCjuQFmB",
        "colab_type": "code",
        "colab": {
          "base_uri": "https://localhost:8080/",
          "height": 34
        },
        "outputId": "6199c33c-d887-4f0c-9bc8-3d36e327c685"
      },
      "source": [
        "# number of input neurons\n",
        "X_train.shape\n"
      ],
      "execution_count": 31,
      "outputs": [
        {
          "output_type": "execute_result",
          "data": {
            "text/plain": [
              "(6818, 31)"
            ]
          },
          "metadata": {
            "tags": []
          },
          "execution_count": 31
        }
      ]
    },
    {
      "cell_type": "code",
      "metadata": {
        "id": "8meAd8NIQFxU",
        "colab_type": "code",
        "colab": {
          "base_uri": "https://localhost:8080/",
          "height": 34
        },
        "outputId": "05d6baf0-f8ee-4452-f341-d47a878c1df2"
      },
      "source": [
        "# number of features in the data\n",
        "X_train.shape[1]"
      ],
      "execution_count": 32,
      "outputs": [
        {
          "output_type": "execute_result",
          "data": {
            "text/plain": [
              "31"
            ]
          },
          "metadata": {
            "tags": []
          },
          "execution_count": 32
        }
      ]
    },
    {
      "cell_type": "code",
      "metadata": {
        "id": "eH6X0KbQQFtv",
        "colab_type": "code",
        "colab": {}
      },
      "source": [
        "# defining input neurons\n",
        "input_neurons = X_train.shape[1]"
      ],
      "execution_count": 33,
      "outputs": []
    },
    {
      "cell_type": "markdown",
      "metadata": {
        "id": "-8d6WBLSQasL",
        "colab_type": "text"
      },
      "source": [
        "<img src='https://drive.google.com/uc?id=1xL_hM9rGItZjsZ8Lofwzw_9fZUi4bgJo'>"
      ]
    },
    {
      "cell_type": "code",
      "metadata": {
        "id": "e51JHoHmQFr5",
        "colab_type": "code",
        "colab": {}
      },
      "source": [
        "# number of output neurons\n",
        "\n",
        "# since loan prediction is a binary classification problem, we will have single neuron in the output layer "
      ],
      "execution_count": null,
      "outputs": []
    },
    {
      "cell_type": "code",
      "metadata": {
        "id": "IsFh8pjtQeOP",
        "colab_type": "code",
        "colab": {}
      },
      "source": [
        "# define number of output neurons\n",
        "output_neurons = 1"
      ],
      "execution_count": 34,
      "outputs": []
    },
    {
      "cell_type": "markdown",
      "metadata": {
        "id": "LAHDMPZ-Oc_g",
        "colab_type": "text"
      },
      "source": [
        ""
      ]
    },
    {
      "cell_type": "code",
      "metadata": {
        "id": "Yf4l6xiu4ZNP",
        "colab_type": "code",
        "colab": {}
      },
      "source": [
        ""
      ],
      "execution_count": 34,
      "outputs": []
    },
    {
      "cell_type": "code",
      "metadata": {
        "id": "sQ5pgbegQeSp",
        "colab_type": "code",
        "colab": {}
      },
      "source": [
        "# number of hidden layers and hidden neurons\n",
        "\n",
        "# It is a hyperparameter and we can pick the hidden layers and hidden neurons on our own"
      ],
      "execution_count": 35,
      "outputs": []
    },
    {
      "cell_type": "code",
      "metadata": {
        "id": "iSBDTqW3Qegm",
        "colab_type": "code",
        "colab": {}
      },
      "source": [
        "# # define hidden layers and neuron in each layer\n",
        "# number_of_hidden_layers = 2\n",
        "# neuron_hidden_layer_1 = 20\n",
        "# neuron_hidden_layer_2 = 10"
      ],
      "execution_count": 36,
      "outputs": []
    },
    {
      "cell_type": "code",
      "metadata": {
        "id": "l1zPP5VfbO6r",
        "colab_type": "code",
        "colab": {}
      },
      "source": [
        "#https://machinelearningmastery.com/regression-tutorial-keras-deep-learning-library-python/\n",
        "# define base model\n",
        "def baseline_model():\n",
        "\t# create model\n",
        "\tmodel = Sequential()\n",
        "\tmodel.add(Dense(input_neurons, input_dim=input_neurons, kernel_initializer='normal', activation='relu'))\n",
        "\tmodel.add(Dense(1, kernel_initializer='normal'))\n",
        "\t# Compile model\n",
        "\tmodel.compile(loss='mean_squared_error', optimizer='adam')\n",
        "\treturn model"
      ],
      "execution_count": 37,
      "outputs": []
    },
    {
      "cell_type": "code",
      "metadata": {
        "id": "V9VU9RLGbcak",
        "colab_type": "code",
        "colab": {
          "base_uri": "https://localhost:8080/",
          "height": 139
        },
        "outputId": "27ca2000-2dc0-4863-abab-fe76b5d6fae3"
      },
      "source": [
        "from keras.wrappers.scikit_learn import KerasRegressor\n",
        "# importing the sequential model\n",
        "from keras.models import Sequential\n",
        "# importing different layers from keras\n",
        "from keras.layers import InputLayer, Dense \n",
        "\n",
        "estimator = KerasRegressor(build_fn=baseline_model, epochs=30, batch_size=5, verbose=0)\n",
        "\n",
        "from sklearn.model_selection import cross_val_score\n",
        "from sklearn.model_selection import KFold\n",
        "kfold = KFold(n_splits=5)\n",
        "results = cross_val_score(estimator, X_train, y_train, cv=kfold)\n",
        "print(\"Results: %.2f (%.2f) MSE\" % (results.mean(), results.std()))"
      ],
      "execution_count": 38,
      "outputs": [
        {
          "output_type": "stream",
          "text": [
            "WARNING:tensorflow:From /tensorflow-1.15.2/python3.6/tensorflow_core/python/ops/resource_variable_ops.py:1630: calling BaseResourceVariable.__init__ (from tensorflow.python.ops.resource_variable_ops) with constraint is deprecated and will be removed in a future version.\n",
            "Instructions for updating:\n",
            "If using Keras pass *_constraint arguments to layers.\n",
            "WARNING:tensorflow:From /usr/local/lib/python3.6/dist-packages/keras/backend/tensorflow_backend.py:422: The name tf.global_variables is deprecated. Please use tf.compat.v1.global_variables instead.\n",
            "\n",
            "Results: -1233968.12 (48680.10) MSE\n"
          ],
          "name": "stdout"
        }
      ]
    },
    {
      "cell_type": "code",
      "metadata": {
        "id": "p7N7RdMzECs6",
        "colab_type": "code",
        "colab": {}
      },
      "source": [
        "# Results: -1192392.75 (80768.37) MSE"
      ],
      "execution_count": null,
      "outputs": []
    },
    {
      "cell_type": "code",
      "metadata": {
        "id": "x0CGzg-A4rpx",
        "colab_type": "code",
        "colab": {}
      },
      "source": [
        "# model_history = model.fit(X_train, y_train, validation_data=(X_test, y_test), epochs=50)"
      ],
      "execution_count": null,
      "outputs": []
    },
    {
      "cell_type": "markdown",
      "metadata": {
        "id": "4PtMqENgQ70f",
        "colab_type": "text"
      },
      "source": [
        "## 6. Evaluating model performance on validation set"
      ]
    },
    {
      "cell_type": "code",
      "metadata": {
        "id": "XMP64OYGj57F",
        "colab_type": "code",
        "colab": {}
      },
      "source": [
        "\n",
        "def mean_absolute_percentage_error(y_true, y_pred): \n",
        "    y_true, y_pred = np.array(y_true), np.array(y_pred)\n",
        "    return np.mean(np.abs((y_true - y_pred) / y_true)) * 100\n"
      ],
      "execution_count": 39,
      "outputs": []
    },
    {
      "cell_type": "markdown",
      "metadata": {
        "id": "BMEG8TJmRBe5",
        "colab_type": "text"
      },
      "source": [
        ""
      ]
    },
    {
      "cell_type": "code",
      "metadata": {
        "id": "oeYcaOReQeWj",
        "colab_type": "code",
        "colab": {
          "base_uri": "https://localhost:8080/",
          "height": 34
        },
        "outputId": "133f3a82-c212-4d57-c8ef-607f631f644f"
      },
      "source": [
        "estimator.fit(X_train, y_train)\n",
        "prediction = estimator.predict(X_test)\n",
        "mean_absolute_percentage_error(y_test, prediction) #54.58289499388174"
      ],
      "execution_count": 40,
      "outputs": [
        {
          "output_type": "execute_result",
          "data": {
            "text/plain": [
              "59.433672005054426"
            ]
          },
          "metadata": {
            "tags": []
          },
          "execution_count": 40
        }
      ]
    },
    {
      "cell_type": "code",
      "metadata": {
        "id": "-YDY9Gn9Gr0d",
        "colab_type": "code",
        "colab": {}
      },
      "source": [
        "# Save the entire model as a SavedModel.\n",
        "!mkdir -p saved_model\n",
        "estimator.model.save('saved_model/my_model') "
      ],
      "execution_count": 43,
      "outputs": []
    },
    {
      "cell_type": "code",
      "metadata": {
        "id": "3XgYcI3dG564",
        "colab_type": "code",
        "colab": {
          "base_uri": "https://localhost:8080/",
          "height": 221
        },
        "outputId": "5e0c0720-4b56-4791-e16d-6fec23f765c3"
      },
      "source": [
        "from keras.models import load_model\n",
        "\n",
        "# Instantiate the model as you please (we are not going to use this)\n",
        "model2 = KerasRegressor(build_fn=baseline_model, epochs=10, batch_size=10, verbose=1)\n",
        "\n",
        "# This is where you load the actual saved model into new variable.\n",
        "model2.model = load_model('saved_model/my_model')\n",
        "\n",
        "# Now you can use this to predict on new data (without fitting model2, because it uses the older saved model)\n",
        "model2.model.summary()"
      ],
      "execution_count": 46,
      "outputs": [
        {
          "output_type": "stream",
          "text": [
            "Model: \"sequential_6\"\n",
            "_________________________________________________________________\n",
            "Layer (type)                 Output Shape              Param #   \n",
            "=================================================================\n",
            "dense_11 (Dense)             (None, 31)                992       \n",
            "_________________________________________________________________\n",
            "dense_12 (Dense)             (None, 1)                 32        \n",
            "=================================================================\n",
            "Total params: 1,024\n",
            "Trainable params: 1,024\n",
            "Non-trainable params: 0\n",
            "_________________________________________________________________\n"
          ],
          "name": "stdout"
        }
      ]
    },
    {
      "cell_type": "markdown",
      "metadata": {
        "id": "jsd3lYQ4krt4",
        "colab_type": "text"
      },
      "source": [
        "# Predicting on Test"
      ]
    },
    {
      "cell_type": "code",
      "metadata": {
        "id": "BUX2Puspr_Jf",
        "colab_type": "code",
        "colab": {
          "base_uri": "https://localhost:8080/",
          "height": 437
        },
        "outputId": "57311051-d901-4552-84fe-6f99d30f3d47"
      },
      "source": [
        "test = pd.read_csv('test_FewQE9B.csv')\n",
        "print(test.shape)\n",
        "\n",
        "print(test.isnull().sum())\n",
        "test['Outlet_Size'].fillna(test['Outlet_Size'].mode()[0], inplace=True)\n",
        "# filling missing values of continuous variables with mean\n",
        "test['Item_Weight'].fillna(test['Item_Weight'].mean(), inplace=True)\n",
        "cat_cols = test.select_dtypes(include=['object']).columns.tolist()\n",
        "# print(cat_cols)\n",
        "cat_cols.remove('Item_Identifier')\n",
        "cat_cols.remove('Outlet_Identifier')\n",
        "cat_cols.remove('Item_Fat_Content')\n",
        "print(cat_cols)\n",
        "# converting the categories into numbers using map function\n",
        "dict1 = {'Low Fat': 0, 'low fat': 0, 'LF':0, 'Regular':1, 'reg': 1}\n",
        "test['Item_Fat_Content'] = test['Item_Fat_Content'].map(dict1)\n",
        "test_num_cols = test.select_dtypes(include=['float','int']).columns.tolist()\n",
        "print(test_num_cols)\n",
        "test_item_id = test[\"Item_Identifier\"].copy()\n",
        "test_outlet_id = test[\"Outlet_Identifier\"].copy()\n",
        "model_df = test.drop([\"Item_Identifier\",\"Outlet_Identifier\"], axis = 1)\n",
        "\n",
        "print(model_df.shape)\n",
        "model_df.head(2)"
      ],
      "execution_count": 47,
      "outputs": [
        {
          "output_type": "stream",
          "text": [
            "(5681, 11)\n",
            "Item_Identifier                 0\n",
            "Item_Weight                   976\n",
            "Item_Fat_Content                0\n",
            "Item_Visibility                 0\n",
            "Item_Type                       0\n",
            "Item_MRP                        0\n",
            "Outlet_Identifier               0\n",
            "Outlet_Establishment_Year       0\n",
            "Outlet_Size                  1606\n",
            "Outlet_Location_Type            0\n",
            "Outlet_Type                     0\n",
            "dtype: int64\n",
            "['Item_Type', 'Outlet_Size', 'Outlet_Location_Type', 'Outlet_Type']\n",
            "['Item_Weight', 'Item_Fat_Content', 'Item_Visibility', 'Item_MRP', 'Outlet_Establishment_Year']\n",
            "(5681, 9)\n"
          ],
          "name": "stdout"
        },
        {
          "output_type": "execute_result",
          "data": {
            "text/html": [
              "<div>\n",
              "<style scoped>\n",
              "    .dataframe tbody tr th:only-of-type {\n",
              "        vertical-align: middle;\n",
              "    }\n",
              "\n",
              "    .dataframe tbody tr th {\n",
              "        vertical-align: top;\n",
              "    }\n",
              "\n",
              "    .dataframe thead th {\n",
              "        text-align: right;\n",
              "    }\n",
              "</style>\n",
              "<table border=\"1\" class=\"dataframe\">\n",
              "  <thead>\n",
              "    <tr style=\"text-align: right;\">\n",
              "      <th></th>\n",
              "      <th>Item_Weight</th>\n",
              "      <th>Item_Fat_Content</th>\n",
              "      <th>Item_Visibility</th>\n",
              "      <th>Item_Type</th>\n",
              "      <th>Item_MRP</th>\n",
              "      <th>Outlet_Establishment_Year</th>\n",
              "      <th>Outlet_Size</th>\n",
              "      <th>Outlet_Location_Type</th>\n",
              "      <th>Outlet_Type</th>\n",
              "    </tr>\n",
              "  </thead>\n",
              "  <tbody>\n",
              "    <tr>\n",
              "      <th>0</th>\n",
              "      <td>20.75</td>\n",
              "      <td>0</td>\n",
              "      <td>0.007565</td>\n",
              "      <td>Snack Foods</td>\n",
              "      <td>107.8622</td>\n",
              "      <td>1999</td>\n",
              "      <td>Medium</td>\n",
              "      <td>Tier 1</td>\n",
              "      <td>Supermarket Type1</td>\n",
              "    </tr>\n",
              "    <tr>\n",
              "      <th>1</th>\n",
              "      <td>8.30</td>\n",
              "      <td>1</td>\n",
              "      <td>0.038428</td>\n",
              "      <td>Dairy</td>\n",
              "      <td>87.3198</td>\n",
              "      <td>2007</td>\n",
              "      <td>Medium</td>\n",
              "      <td>Tier 2</td>\n",
              "      <td>Supermarket Type1</td>\n",
              "    </tr>\n",
              "  </tbody>\n",
              "</table>\n",
              "</div>"
            ],
            "text/plain": [
              "   Item_Weight  Item_Fat_Content  ...  Outlet_Location_Type        Outlet_Type\n",
              "0        20.75                 0  ...                Tier 1  Supermarket Type1\n",
              "1         8.30                 1  ...                Tier 2  Supermarket Type1\n",
              "\n",
              "[2 rows x 9 columns]"
            ]
          },
          "metadata": {
            "tags": []
          },
          "execution_count": 47
        }
      ]
    },
    {
      "cell_type": "code",
      "metadata": {
        "id": "ZA-p7CyjsJKu",
        "colab_type": "code",
        "colab": {
          "base_uri": "https://localhost:8080/",
          "height": 34
        },
        "outputId": "80f56590-4a29-46bd-dc64-3bdde1cb9b43"
      },
      "source": [
        "cat_cols"
      ],
      "execution_count": 48,
      "outputs": [
        {
          "output_type": "execute_result",
          "data": {
            "text/plain": [
              "['Item_Type', 'Outlet_Size', 'Outlet_Location_Type', 'Outlet_Type']"
            ]
          },
          "metadata": {
            "tags": []
          },
          "execution_count": 48
        }
      ]
    },
    {
      "cell_type": "code",
      "metadata": {
        "id": "5SL2IR1psQGe",
        "colab_type": "code",
        "colab": {}
      },
      "source": [
        "\n",
        "\n",
        "# Convert categorical variables to numeric - one hot encoder\n",
        "\n",
        "from sklearn.preprocessing import OneHotEncoder\n",
        "\n",
        "\n",
        "test_cat_encoder = OneHotEncoder(sparse=False)\n",
        "model_cat = model_df[cat_cols]\n",
        "\n",
        "model_cat_1hot = test_cat_encoder.fit_transform(model_cat)"
      ],
      "execution_count": 49,
      "outputs": []
    },
    {
      "cell_type": "code",
      "metadata": {
        "id": "gkx-0pYQswbD",
        "colab_type": "code",
        "colab": {}
      },
      "source": [
        "from sklearn.pipeline import Pipeline\n",
        "from sklearn.preprocessing import StandardScaler\n",
        "\n",
        "num_pipeline = Pipeline([\n",
        "    ('std_scaler', StandardScaler())\n",
        "])"
      ],
      "execution_count": 50,
      "outputs": []
    },
    {
      "cell_type": "code",
      "metadata": {
        "id": "nIiqNug6syOH",
        "colab_type": "code",
        "colab": {}
      },
      "source": [
        "model_num = model_df.drop(cat_cols, axis = 1)\n",
        "model_num_tr = num_pipeline.fit_transform(model_num)\n"
      ],
      "execution_count": 51,
      "outputs": []
    },
    {
      "cell_type": "code",
      "metadata": {
        "id": "c4XGBO8fs5Q3",
        "colab_type": "code",
        "colab": {
          "base_uri": "https://localhost:8080/",
          "height": 34
        },
        "outputId": "9fb5e6ac-c8a7-4277-bb4f-c5e97ab7a08d"
      },
      "source": [
        "model_num_tr.shape"
      ],
      "execution_count": 52,
      "outputs": [
        {
          "output_type": "execute_result",
          "data": {
            "text/plain": [
              "(5681, 5)"
            ]
          },
          "metadata": {
            "tags": []
          },
          "execution_count": 52
        }
      ]
    },
    {
      "cell_type": "code",
      "metadata": {
        "id": "wfm6zP7ds_t2",
        "colab_type": "code",
        "colab": {}
      },
      "source": [
        "from sklearn.compose import ColumnTransformer\n",
        "\n",
        "full_pipeline = ColumnTransformer([\n",
        "    ('num', num_pipeline, test_num_cols),\n",
        "    ('cat', OneHotEncoder(sparse=False), cat_cols)\n",
        "])"
      ],
      "execution_count": 53,
      "outputs": []
    },
    {
      "cell_type": "code",
      "metadata": {
        "id": "Hlcm7bfatMZI",
        "colab_type": "code",
        "colab": {}
      },
      "source": [
        "test_model_prepared = full_pipeline.fit_transform(model_df)"
      ],
      "execution_count": 54,
      "outputs": []
    },
    {
      "cell_type": "code",
      "metadata": {
        "id": "tpSbuyzUpzL9",
        "colab_type": "code",
        "colab": {
          "base_uri": "https://localhost:8080/",
          "height": 34
        },
        "outputId": "014e2a58-fd5c-4b4b-ee01-800f19bb0684"
      },
      "source": [
        "len(test_num_cols) + len(test_cat_encoder.get_feature_names().tolist()) "
      ],
      "execution_count": 55,
      "outputs": [
        {
          "output_type": "execute_result",
          "data": {
            "text/plain": [
              "31"
            ]
          },
          "metadata": {
            "tags": []
          },
          "execution_count": 55
        }
      ]
    },
    {
      "cell_type": "code",
      "metadata": {
        "id": "wRxLAvWAkvYt",
        "colab_type": "code",
        "colab": {
          "base_uri": "https://localhost:8080/",
          "height": 258
        },
        "outputId": "3bbdf847-243a-471f-8e9a-b6f76885c98e"
      },
      "source": [
        "test_trans_df = pd.DataFrame(\n",
        "    test_model_prepared,\n",
        "    columns=test_num_cols + test_cat_encoder.get_feature_names().tolist())\n",
        "\n",
        "test_trans_df.head()"
      ],
      "execution_count": 56,
      "outputs": [
        {
          "output_type": "execute_result",
          "data": {
            "text/html": [
              "<div>\n",
              "<style scoped>\n",
              "    .dataframe tbody tr th:only-of-type {\n",
              "        vertical-align: middle;\n",
              "    }\n",
              "\n",
              "    .dataframe tbody tr th {\n",
              "        vertical-align: top;\n",
              "    }\n",
              "\n",
              "    .dataframe thead th {\n",
              "        text-align: right;\n",
              "    }\n",
              "</style>\n",
              "<table border=\"1\" class=\"dataframe\">\n",
              "  <thead>\n",
              "    <tr style=\"text-align: right;\">\n",
              "      <th></th>\n",
              "      <th>Item_Weight</th>\n",
              "      <th>Item_Fat_Content</th>\n",
              "      <th>Item_Visibility</th>\n",
              "      <th>Item_MRP</th>\n",
              "      <th>Outlet_Establishment_Year</th>\n",
              "      <th>x0_Baking Goods</th>\n",
              "      <th>x0_Breads</th>\n",
              "      <th>x0_Breakfast</th>\n",
              "      <th>x0_Canned</th>\n",
              "      <th>x0_Dairy</th>\n",
              "      <th>x0_Frozen Foods</th>\n",
              "      <th>x0_Fruits and Vegetables</th>\n",
              "      <th>x0_Hard Drinks</th>\n",
              "      <th>x0_Health and Hygiene</th>\n",
              "      <th>x0_Household</th>\n",
              "      <th>x0_Meat</th>\n",
              "      <th>x0_Others</th>\n",
              "      <th>x0_Seafood</th>\n",
              "      <th>x0_Snack Foods</th>\n",
              "      <th>x0_Soft Drinks</th>\n",
              "      <th>x0_Starchy Foods</th>\n",
              "      <th>x1_High</th>\n",
              "      <th>x1_Medium</th>\n",
              "      <th>x1_Small</th>\n",
              "      <th>x2_Tier 1</th>\n",
              "      <th>x2_Tier 2</th>\n",
              "      <th>x2_Tier 3</th>\n",
              "      <th>x3_Grocery Store</th>\n",
              "      <th>x3_Supermarket Type1</th>\n",
              "      <th>x3_Supermarket Type2</th>\n",
              "      <th>x3_Supermarket Type3</th>\n",
              "    </tr>\n",
              "  </thead>\n",
              "  <tbody>\n",
              "    <tr>\n",
              "      <th>0</th>\n",
              "      <td>1.897460e+00</td>\n",
              "      <td>-0.740811</td>\n",
              "      <td>-1.134077</td>\n",
              "      <td>-0.536555</td>\n",
              "      <td>0.139891</td>\n",
              "      <td>0.0</td>\n",
              "      <td>0.0</td>\n",
              "      <td>0.0</td>\n",
              "      <td>0.0</td>\n",
              "      <td>0.0</td>\n",
              "      <td>0.0</td>\n",
              "      <td>0.0</td>\n",
              "      <td>0.0</td>\n",
              "      <td>0.0</td>\n",
              "      <td>0.0</td>\n",
              "      <td>0.0</td>\n",
              "      <td>0.0</td>\n",
              "      <td>0.0</td>\n",
              "      <td>1.0</td>\n",
              "      <td>0.0</td>\n",
              "      <td>0.0</td>\n",
              "      <td>0.0</td>\n",
              "      <td>1.0</td>\n",
              "      <td>0.0</td>\n",
              "      <td>1.0</td>\n",
              "      <td>0.0</td>\n",
              "      <td>0.0</td>\n",
              "      <td>0.0</td>\n",
              "      <td>1.0</td>\n",
              "      <td>0.0</td>\n",
              "      <td>0.0</td>\n",
              "    </tr>\n",
              "    <tr>\n",
              "      <th>1</th>\n",
              "      <td>-1.035530e+00</td>\n",
              "      <td>1.349873</td>\n",
              "      <td>-0.531850</td>\n",
              "      <td>-0.868937</td>\n",
              "      <td>1.095512</td>\n",
              "      <td>0.0</td>\n",
              "      <td>0.0</td>\n",
              "      <td>0.0</td>\n",
              "      <td>0.0</td>\n",
              "      <td>1.0</td>\n",
              "      <td>0.0</td>\n",
              "      <td>0.0</td>\n",
              "      <td>0.0</td>\n",
              "      <td>0.0</td>\n",
              "      <td>0.0</td>\n",
              "      <td>0.0</td>\n",
              "      <td>0.0</td>\n",
              "      <td>0.0</td>\n",
              "      <td>0.0</td>\n",
              "      <td>0.0</td>\n",
              "      <td>0.0</td>\n",
              "      <td>0.0</td>\n",
              "      <td>1.0</td>\n",
              "      <td>0.0</td>\n",
              "      <td>0.0</td>\n",
              "      <td>1.0</td>\n",
              "      <td>0.0</td>\n",
              "      <td>0.0</td>\n",
              "      <td>1.0</td>\n",
              "      <td>0.0</td>\n",
              "      <td>0.0</td>\n",
              "    </tr>\n",
              "    <tr>\n",
              "      <th>2</th>\n",
              "      <td>4.486336e-01</td>\n",
              "      <td>-0.740811</td>\n",
              "      <td>0.661316</td>\n",
              "      <td>1.629848</td>\n",
              "      <td>0.020438</td>\n",
              "      <td>0.0</td>\n",
              "      <td>0.0</td>\n",
              "      <td>0.0</td>\n",
              "      <td>0.0</td>\n",
              "      <td>0.0</td>\n",
              "      <td>0.0</td>\n",
              "      <td>0.0</td>\n",
              "      <td>0.0</td>\n",
              "      <td>0.0</td>\n",
              "      <td>0.0</td>\n",
              "      <td>0.0</td>\n",
              "      <td>1.0</td>\n",
              "      <td>0.0</td>\n",
              "      <td>0.0</td>\n",
              "      <td>0.0</td>\n",
              "      <td>0.0</td>\n",
              "      <td>0.0</td>\n",
              "      <td>1.0</td>\n",
              "      <td>0.0</td>\n",
              "      <td>0.0</td>\n",
              "      <td>0.0</td>\n",
              "      <td>1.0</td>\n",
              "      <td>1.0</td>\n",
              "      <td>0.0</td>\n",
              "      <td>0.0</td>\n",
              "      <td>0.0</td>\n",
              "    </tr>\n",
              "    <tr>\n",
              "      <th>3</th>\n",
              "      <td>-1.267578e+00</td>\n",
              "      <td>-0.740811</td>\n",
              "      <td>-0.981416</td>\n",
              "      <td>0.226697</td>\n",
              "      <td>1.095512</td>\n",
              "      <td>0.0</td>\n",
              "      <td>0.0</td>\n",
              "      <td>0.0</td>\n",
              "      <td>0.0</td>\n",
              "      <td>0.0</td>\n",
              "      <td>0.0</td>\n",
              "      <td>0.0</td>\n",
              "      <td>0.0</td>\n",
              "      <td>0.0</td>\n",
              "      <td>0.0</td>\n",
              "      <td>0.0</td>\n",
              "      <td>0.0</td>\n",
              "      <td>0.0</td>\n",
              "      <td>1.0</td>\n",
              "      <td>0.0</td>\n",
              "      <td>0.0</td>\n",
              "      <td>0.0</td>\n",
              "      <td>1.0</td>\n",
              "      <td>0.0</td>\n",
              "      <td>0.0</td>\n",
              "      <td>1.0</td>\n",
              "      <td>0.0</td>\n",
              "      <td>0.0</td>\n",
              "      <td>1.0</td>\n",
              "      <td>0.0</td>\n",
              "      <td>0.0</td>\n",
              "    </tr>\n",
              "    <tr>\n",
              "      <th>4</th>\n",
              "      <td>-5.230960e-14</td>\n",
              "      <td>1.349873</td>\n",
              "      <td>1.032540</td>\n",
              "      <td>1.508110</td>\n",
              "      <td>-1.532446</td>\n",
              "      <td>0.0</td>\n",
              "      <td>0.0</td>\n",
              "      <td>0.0</td>\n",
              "      <td>0.0</td>\n",
              "      <td>1.0</td>\n",
              "      <td>0.0</td>\n",
              "      <td>0.0</td>\n",
              "      <td>0.0</td>\n",
              "      <td>0.0</td>\n",
              "      <td>0.0</td>\n",
              "      <td>0.0</td>\n",
              "      <td>0.0</td>\n",
              "      <td>0.0</td>\n",
              "      <td>0.0</td>\n",
              "      <td>0.0</td>\n",
              "      <td>0.0</td>\n",
              "      <td>0.0</td>\n",
              "      <td>1.0</td>\n",
              "      <td>0.0</td>\n",
              "      <td>0.0</td>\n",
              "      <td>0.0</td>\n",
              "      <td>1.0</td>\n",
              "      <td>0.0</td>\n",
              "      <td>0.0</td>\n",
              "      <td>0.0</td>\n",
              "      <td>1.0</td>\n",
              "    </tr>\n",
              "  </tbody>\n",
              "</table>\n",
              "</div>"
            ],
            "text/plain": [
              "    Item_Weight  Item_Fat_Content  ...  x3_Supermarket Type2  x3_Supermarket Type3\n",
              "0  1.897460e+00         -0.740811  ...                   0.0                   0.0\n",
              "1 -1.035530e+00          1.349873  ...                   0.0                   0.0\n",
              "2  4.486336e-01         -0.740811  ...                   0.0                   0.0\n",
              "3 -1.267578e+00         -0.740811  ...                   0.0                   0.0\n",
              "4 -5.230960e-14          1.349873  ...                   0.0                   1.0\n",
              "\n",
              "[5 rows x 31 columns]"
            ]
          },
          "metadata": {
            "tags": []
          },
          "execution_count": 56
        }
      ]
    },
    {
      "cell_type": "code",
      "metadata": {
        "id": "AzA03RSzkvqF",
        "colab_type": "code",
        "colab": {}
      },
      "source": [
        "# test_trans_df[\"Item_Identifier\"] = test_item_id\n",
        "# test_trans_df[\"Outlet_Identifier\"] = test_outlet_id\n",
        "# cols = list(test_trans_df)\n",
        "# cols.insert(0, cols.pop(cols.index('Outlet_Identifier')))\n",
        "# cols.insert(0, cols.pop(cols.index('Item_Identifier')))\n",
        "# test_trans_df = test_trans_df.loc[:, cols]\n",
        "# test_trans_df.head()"
      ],
      "execution_count": null,
      "outputs": []
    },
    {
      "cell_type": "markdown",
      "metadata": {
        "id": "kLt-Myt9uUuT",
        "colab_type": "text"
      },
      "source": [
        "# Predicting on test"
      ]
    },
    {
      "cell_type": "code",
      "metadata": {
        "id": "LN3-YfG-kvL5",
        "colab_type": "code",
        "colab": {
          "base_uri": "https://localhost:8080/",
          "height": 51
        },
        "outputId": "96573c48-ca21-400a-f913-94782f38f5af"
      },
      "source": [
        "estimator.fit(X, y)\n",
        "prediction = estimator.predict(test_trans_df)\n",
        "prediction"
      ],
      "execution_count": 57,
      "outputs": [
        {
          "output_type": "execute_result",
          "data": {
            "text/plain": [
              "array([1753.051 , 1380.8638, 1535.0352, ..., 1995.6058, 3620.0154,\n",
              "       1409.0858], dtype=float32)"
            ]
          },
          "metadata": {
            "tags": []
          },
          "execution_count": 57
        }
      ]
    },
    {
      "cell_type": "code",
      "metadata": {
        "id": "qz9eu6OLIPHI",
        "colab_type": "code",
        "colab": {
          "base_uri": "https://localhost:8080/",
          "height": 204
        },
        "outputId": "bb8b7489-a583-4944-c27c-a0c56561939a"
      },
      "source": [
        "sample_sub.head()"
      ],
      "execution_count": 59,
      "outputs": [
        {
          "output_type": "execute_result",
          "data": {
            "text/html": [
              "<div>\n",
              "<style scoped>\n",
              "    .dataframe tbody tr th:only-of-type {\n",
              "        vertical-align: middle;\n",
              "    }\n",
              "\n",
              "    .dataframe tbody tr th {\n",
              "        vertical-align: top;\n",
              "    }\n",
              "\n",
              "    .dataframe thead th {\n",
              "        text-align: right;\n",
              "    }\n",
              "</style>\n",
              "<table border=\"1\" class=\"dataframe\">\n",
              "  <thead>\n",
              "    <tr style=\"text-align: right;\">\n",
              "      <th></th>\n",
              "      <th>Item_Identifier</th>\n",
              "      <th>Outlet_Identifier</th>\n",
              "      <th>Item_Outlet_Sales</th>\n",
              "    </tr>\n",
              "  </thead>\n",
              "  <tbody>\n",
              "    <tr>\n",
              "      <th>0</th>\n",
              "      <td>FDW58</td>\n",
              "      <td>OUT049</td>\n",
              "      <td>1000</td>\n",
              "    </tr>\n",
              "    <tr>\n",
              "      <th>1</th>\n",
              "      <td>FDW14</td>\n",
              "      <td>OUT017</td>\n",
              "      <td>1000</td>\n",
              "    </tr>\n",
              "    <tr>\n",
              "      <th>2</th>\n",
              "      <td>NCN55</td>\n",
              "      <td>OUT010</td>\n",
              "      <td>1000</td>\n",
              "    </tr>\n",
              "    <tr>\n",
              "      <th>3</th>\n",
              "      <td>FDQ58</td>\n",
              "      <td>OUT017</td>\n",
              "      <td>1000</td>\n",
              "    </tr>\n",
              "    <tr>\n",
              "      <th>4</th>\n",
              "      <td>FDY38</td>\n",
              "      <td>OUT027</td>\n",
              "      <td>1000</td>\n",
              "    </tr>\n",
              "  </tbody>\n",
              "</table>\n",
              "</div>"
            ],
            "text/plain": [
              "  Item_Identifier Outlet_Identifier  Item_Outlet_Sales\n",
              "0           FDW58            OUT049               1000\n",
              "1           FDW14            OUT017               1000\n",
              "2           NCN55            OUT010               1000\n",
              "3           FDQ58            OUT017               1000\n",
              "4           FDY38            OUT027               1000"
            ]
          },
          "metadata": {
            "tags": []
          },
          "execution_count": 59
        }
      ]
    },
    {
      "cell_type": "code",
      "metadata": {
        "id": "SYc-gFnIS0en",
        "colab_type": "code",
        "colab": {
          "base_uri": "https://localhost:8080/",
          "height": 204
        },
        "outputId": "a355aea5-3472-44d4-f5f0-b966142926e0"
      },
      "source": [
        "sub1 = pd.DataFrame(prediction, columns= ['Item_Outlet_Sales'])\n",
        "sub1[\"Item_Identifier\"] = test_item_id\n",
        "sub1[\"Outlet_Identifier\"] = test_outlet_id\n",
        "sub1.head()"
      ],
      "execution_count": 60,
      "outputs": [
        {
          "output_type": "execute_result",
          "data": {
            "text/html": [
              "<div>\n",
              "<style scoped>\n",
              "    .dataframe tbody tr th:only-of-type {\n",
              "        vertical-align: middle;\n",
              "    }\n",
              "\n",
              "    .dataframe tbody tr th {\n",
              "        vertical-align: top;\n",
              "    }\n",
              "\n",
              "    .dataframe thead th {\n",
              "        text-align: right;\n",
              "    }\n",
              "</style>\n",
              "<table border=\"1\" class=\"dataframe\">\n",
              "  <thead>\n",
              "    <tr style=\"text-align: right;\">\n",
              "      <th></th>\n",
              "      <th>Item_Outlet_Sales</th>\n",
              "      <th>Item_Identifier</th>\n",
              "      <th>Outlet_Identifier</th>\n",
              "    </tr>\n",
              "  </thead>\n",
              "  <tbody>\n",
              "    <tr>\n",
              "      <th>0</th>\n",
              "      <td>1753.051025</td>\n",
              "      <td>FDW58</td>\n",
              "      <td>OUT049</td>\n",
              "    </tr>\n",
              "    <tr>\n",
              "      <th>1</th>\n",
              "      <td>1380.863770</td>\n",
              "      <td>FDW14</td>\n",
              "      <td>OUT017</td>\n",
              "    </tr>\n",
              "    <tr>\n",
              "      <th>2</th>\n",
              "      <td>1535.035156</td>\n",
              "      <td>NCN55</td>\n",
              "      <td>OUT010</td>\n",
              "    </tr>\n",
              "    <tr>\n",
              "      <th>3</th>\n",
              "      <td>2540.588623</td>\n",
              "      <td>FDQ58</td>\n",
              "      <td>OUT017</td>\n",
              "    </tr>\n",
              "    <tr>\n",
              "      <th>4</th>\n",
              "      <td>5136.916504</td>\n",
              "      <td>FDY38</td>\n",
              "      <td>OUT027</td>\n",
              "    </tr>\n",
              "  </tbody>\n",
              "</table>\n",
              "</div>"
            ],
            "text/plain": [
              "   Item_Outlet_Sales Item_Identifier Outlet_Identifier\n",
              "0        1753.051025           FDW58            OUT049\n",
              "1        1380.863770           FDW14            OUT017\n",
              "2        1535.035156           NCN55            OUT010\n",
              "3        2540.588623           FDQ58            OUT017\n",
              "4        5136.916504           FDY38            OUT027"
            ]
          },
          "metadata": {
            "tags": []
          },
          "execution_count": 60
        }
      ]
    },
    {
      "cell_type": "code",
      "metadata": {
        "id": "16OcdygHUR8I",
        "colab_type": "code",
        "colab": {}
      },
      "source": [
        "sub1 = sub1[['Item_Identifier','Outlet_Identifier','Item_Outlet_Sales']]\n",
        "# saving the predicted data\n",
        "sub1.to_csv('bigmart_sub1.csv', index=False)"
      ],
      "execution_count": 61,
      "outputs": []
    },
    {
      "cell_type": "code",
      "metadata": {
        "id": "vFjz5DS7UkZZ",
        "colab_type": "code",
        "colab": {
          "base_uri": "https://localhost:8080/",
          "height": 204
        },
        "outputId": "3c799492-203e-4a23-c720-c3301070239c"
      },
      "source": [
        "sub1.head()"
      ],
      "execution_count": 62,
      "outputs": [
        {
          "output_type": "execute_result",
          "data": {
            "text/html": [
              "<div>\n",
              "<style scoped>\n",
              "    .dataframe tbody tr th:only-of-type {\n",
              "        vertical-align: middle;\n",
              "    }\n",
              "\n",
              "    .dataframe tbody tr th {\n",
              "        vertical-align: top;\n",
              "    }\n",
              "\n",
              "    .dataframe thead th {\n",
              "        text-align: right;\n",
              "    }\n",
              "</style>\n",
              "<table border=\"1\" class=\"dataframe\">\n",
              "  <thead>\n",
              "    <tr style=\"text-align: right;\">\n",
              "      <th></th>\n",
              "      <th>Item_Identifier</th>\n",
              "      <th>Outlet_Identifier</th>\n",
              "      <th>Item_Outlet_Sales</th>\n",
              "    </tr>\n",
              "  </thead>\n",
              "  <tbody>\n",
              "    <tr>\n",
              "      <th>0</th>\n",
              "      <td>FDW58</td>\n",
              "      <td>OUT049</td>\n",
              "      <td>1753.051025</td>\n",
              "    </tr>\n",
              "    <tr>\n",
              "      <th>1</th>\n",
              "      <td>FDW14</td>\n",
              "      <td>OUT017</td>\n",
              "      <td>1380.863770</td>\n",
              "    </tr>\n",
              "    <tr>\n",
              "      <th>2</th>\n",
              "      <td>NCN55</td>\n",
              "      <td>OUT010</td>\n",
              "      <td>1535.035156</td>\n",
              "    </tr>\n",
              "    <tr>\n",
              "      <th>3</th>\n",
              "      <td>FDQ58</td>\n",
              "      <td>OUT017</td>\n",
              "      <td>2540.588623</td>\n",
              "    </tr>\n",
              "    <tr>\n",
              "      <th>4</th>\n",
              "      <td>FDY38</td>\n",
              "      <td>OUT027</td>\n",
              "      <td>5136.916504</td>\n",
              "    </tr>\n",
              "  </tbody>\n",
              "</table>\n",
              "</div>"
            ],
            "text/plain": [
              "  Item_Identifier Outlet_Identifier  Item_Outlet_Sales\n",
              "0           FDW58            OUT049        1753.051025\n",
              "1           FDW14            OUT017        1380.863770\n",
              "2           NCN55            OUT010        1535.035156\n",
              "3           FDQ58            OUT017        2540.588623\n",
              "4           FDY38            OUT027        5136.916504"
            ]
          },
          "metadata": {
            "tags": []
          },
          "execution_count": 62
        }
      ]
    },
    {
      "cell_type": "code",
      "metadata": {
        "id": "CbMAgj-AUmGD",
        "colab_type": "code",
        "colab": {}
      },
      "source": [
        "sub = pd.read_csv('bigmart_sub1.csv')"
      ],
      "execution_count": 63,
      "outputs": []
    },
    {
      "cell_type": "code",
      "metadata": {
        "id": "fISpr-6mUzp8",
        "colab_type": "code",
        "colab": {
          "base_uri": "https://localhost:8080/",
          "height": 297
        },
        "outputId": "e6ed5206-d7ce-4e1f-97e6-28bbe8720bc3"
      },
      "source": [
        "sub1.describe()"
      ],
      "execution_count": 69,
      "outputs": [
        {
          "output_type": "execute_result",
          "data": {
            "text/html": [
              "<div>\n",
              "<style scoped>\n",
              "    .dataframe tbody tr th:only-of-type {\n",
              "        vertical-align: middle;\n",
              "    }\n",
              "\n",
              "    .dataframe tbody tr th {\n",
              "        vertical-align: top;\n",
              "    }\n",
              "\n",
              "    .dataframe thead th {\n",
              "        text-align: right;\n",
              "    }\n",
              "</style>\n",
              "<table border=\"1\" class=\"dataframe\">\n",
              "  <thead>\n",
              "    <tr style=\"text-align: right;\">\n",
              "      <th></th>\n",
              "      <th>Item_Outlet_Sales</th>\n",
              "    </tr>\n",
              "  </thead>\n",
              "  <tbody>\n",
              "    <tr>\n",
              "      <th>count</th>\n",
              "      <td>5681.000000</td>\n",
              "    </tr>\n",
              "    <tr>\n",
              "      <th>mean</th>\n",
              "      <td>2324.582764</td>\n",
              "    </tr>\n",
              "    <tr>\n",
              "      <th>std</th>\n",
              "      <td>1154.143799</td>\n",
              "    </tr>\n",
              "    <tr>\n",
              "      <th>min</th>\n",
              "      <td>1.018364</td>\n",
              "    </tr>\n",
              "    <tr>\n",
              "      <th>25%</th>\n",
              "      <td>1509.161621</td>\n",
              "    </tr>\n",
              "    <tr>\n",
              "      <th>50%</th>\n",
              "      <td>2167.426270</td>\n",
              "    </tr>\n",
              "    <tr>\n",
              "      <th>75%</th>\n",
              "      <td>3105.457031</td>\n",
              "    </tr>\n",
              "    <tr>\n",
              "      <th>max</th>\n",
              "      <td>5787.524902</td>\n",
              "    </tr>\n",
              "  </tbody>\n",
              "</table>\n",
              "</div>"
            ],
            "text/plain": [
              "       Item_Outlet_Sales\n",
              "count        5681.000000\n",
              "mean         2324.582764\n",
              "std          1154.143799\n",
              "min             1.018364\n",
              "25%          1509.161621\n",
              "50%          2167.426270\n",
              "75%          3105.457031\n",
              "max          5787.524902"
            ]
          },
          "metadata": {
            "tags": []
          },
          "execution_count": 69
        }
      ]
    },
    {
      "cell_type": "code",
      "metadata": {
        "id": "RTDudqykValF",
        "colab_type": "code",
        "colab": {}
      },
      "source": [
        "impute_mean = sub1[\"Item_Outlet_Sales\"].mean()"
      ],
      "execution_count": 67,
      "outputs": []
    },
    {
      "cell_type": "code",
      "metadata": {
        "id": "VmthWGbGVicE",
        "colab_type": "code",
        "colab": {}
      },
      "source": [
        "sub1[\"Item_Outlet_Sales\"] = np.where(sub1[\"Item_Outlet_Sales\"] <0, impute_mean, sub1[\"Item_Outlet_Sales\"])"
      ],
      "execution_count": 68,
      "outputs": []
    },
    {
      "cell_type": "code",
      "metadata": {
        "id": "leDMGwT-Vi_4",
        "colab_type": "code",
        "colab": {}
      },
      "source": [
        "sub1.to_csv('bigmart_sub1.csv', index=False)"
      ],
      "execution_count": 70,
      "outputs": []
    },
    {
      "cell_type": "code",
      "metadata": {
        "id": "KJ754s8tVi7V",
        "colab_type": "code",
        "colab": {}
      },
      "source": [
        "sub = pd.read_csv('bigmart_sub1.csv')"
      ],
      "execution_count": 71,
      "outputs": []
    },
    {
      "cell_type": "code",
      "metadata": {
        "id": "HBPzL9uqVwBu",
        "colab_type": "code",
        "colab": {}
      },
      "source": [
        ""
      ],
      "execution_count": null,
      "outputs": []
    }
  ]
}